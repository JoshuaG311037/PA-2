{
 "cells": [
  {
   "cell_type": "code",
   "execution_count": 9,
   "id": "9d958e12-a456-4a30-8e43-d1327ce2ab04",
   "metadata": {},
   "outputs": [
    {
     "name": "stdout",
     "output_type": "stream",
     "text": [
      "Orig:\n",
      " [[0.62106612 0.60051854 0.67705808 0.34856732 0.50980693]\n",
      " [0.53961327 0.5155036  0.01164592 0.49179507 0.71529577]\n",
      " [0.22102789 0.84253697 0.4167181  0.62184516 0.88804069]\n",
      " [0.42296376 0.07945955 0.7892689  0.79034356 0.37944059]\n",
      " [0.49201192 0.28517343 0.11288414 0.58621999 0.37590601]]\n",
      "\n",
      "Norm:\n",
      " [[ 0.55638707  0.46684589  0.80038591 -0.63109393  0.0715476 ]\n",
      " [ 0.20143607  0.09637222 -2.09931238 -0.00694354  0.9670161 ]\n",
      " [-1.1868786   1.52150116 -0.33411004  0.55978191  1.71979488]\n",
      " [-0.30689302 -1.80379771  1.28937232  1.29405544 -0.49655601]\n",
      " [-0.00599858 -0.90734854 -1.65814178  0.40453642 -0.51195885]]\n"
     ]
    }
   ],
   "source": [
    "import numpy as np\n",
    "\n",
    "# Random 5x5 ndarray\n",
    "X = np.random.rand(5, 5)\n",
    "\n",
    "# Normalize the ndarray\n",
    "normalized_X = (X - X.mean()) / X.std()\n",
    "\n",
    "# Original / normalized\n",
    "print(f\"Orig:\\n {X}\\n\")\n",
    "print(f\"Norm:\\n {normalized_X}\")"
   ]
  },
  {
   "cell_type": "code",
   "execution_count": null,
   "id": "4b032235-8662-417e-9531-09a4b8483635",
   "metadata": {},
   "outputs": [],
   "source": []
  }
 ],
 "metadata": {
  "kernelspec": {
   "display_name": "Python 3 (ipykernel)",
   "language": "python",
   "name": "python3"
  },
  "language_info": {
   "codemirror_mode": {
    "name": "ipython",
    "version": 3
   },
   "file_extension": ".py",
   "mimetype": "text/x-python",
   "name": "python",
   "nbconvert_exporter": "python",
   "pygments_lexer": "ipython3",
   "version": "3.12.4"
  }
 },
 "nbformat": 4,
 "nbformat_minor": 5
}
